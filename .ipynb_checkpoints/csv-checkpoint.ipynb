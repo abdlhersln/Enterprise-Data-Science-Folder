{
 "cells": [
  {
   "cell_type": "code",
   "execution_count": 6,
   "id": "2aef626d",
   "metadata": {},
   "outputs": [],
   "source": [
    "import pandas as pd\n",
    "import numpy as np\n",
    "import matplotlib as plt"
   ]
  },
  {
   "cell_type": "code",
   "execution_count": 13,
   "id": "696ab8ca",
   "metadata": {},
   "outputs": [
    {
     "name": "stdout",
     "output_type": "stream",
     "text": [
      "  country;pop;density;medianage;urbanpop;quarantine;schools;publicplace;hospibed;smokers;sex0;sex14;sex25;sex54;sex64;sex65plus;sexratio;lung;femalelung;malelung;gdp2019;healthexp;healthperpop;fertility;avgtemp;avghumidity  \\\n",
      "0                                     Afghanistan;38                                                                                                                                                                             \n",
      "1                                          Albania;2                                                                                                                                                                             \n",
      "2                                         Algeria;43                                                                                                                                                                             \n",
      "\n",
      "  Unnamed: 1                                         Unnamed: 2  \\\n",
      "0        928  346;60.0;18.0;25.0;;;;0.5;;1.05;1.03;1.03;1.03...   \n",
      "1        877  797;105.0;36.0;63.0;;;;2.9;29.4;1.08;1.11;1.09...   \n",
      "2        851  044;18.0;29.0;73.0;;;;1.9;;1.05;1.05;1.05;1.03...   \n",
      "\n",
      "                                         Unnamed: 3  \\\n",
      "0  734;184;4.726632876;5.12;6.216666667;56.93333333   \n",
      "1               418;774;268.9557325;1.51;13.95;69.9   \n",
      "2                                             781;1   \n",
      "\n",
      "                                    Unnamed: 4 Unnamed: 5 Unnamed: 6  \n",
      "0                                          NaN        NaN        NaN  \n",
      "1                                          NaN        NaN        NaN  \n",
      "2  031;23.51141286;2.7;19.56666667;61.71666667        NaN        NaN  \n"
     ]
    }
   ],
   "source": [
    "excel = pd.read_csv('info.csv')\n",
    "print(excel.head(3))\n"
   ]
  }
 ],
 "metadata": {
  "kernelspec": {
   "display_name": "Python 3 (ipykernel)",
   "language": "python",
   "name": "python3"
  },
  "language_info": {
   "codemirror_mode": {
    "name": "ipython",
    "version": 3
   },
   "file_extension": ".py",
   "mimetype": "text/x-python",
   "name": "python",
   "nbconvert_exporter": "python",
   "pygments_lexer": "ipython3",
   "version": "3.9.7"
  }
 },
 "nbformat": 4,
 "nbformat_minor": 5
}
