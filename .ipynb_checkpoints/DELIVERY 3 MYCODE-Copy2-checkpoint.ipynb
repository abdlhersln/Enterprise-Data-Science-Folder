{
 "cells": [
  {
   "cell_type": "code",
   "execution_count": 1,
   "id": "7dd28ef4",
   "metadata": {},
   "outputs": [
    {
     "name": "stderr",
     "output_type": "stream",
     "text": [
      "C:\\Users\\ABDULL~1\\AppData\\Local\\Temp/ipykernel_53252/381791358.py:11: UserWarning: \n",
      "The dash_core_components package is deprecated. Please replace\n",
      "`import dash_core_components as dcc` with `from dash import dcc`\n",
      "  import dash_core_components as dcc\n",
      "C:\\Users\\ABDULL~1\\AppData\\Local\\Temp/ipykernel_53252/381791358.py:12: UserWarning: \n",
      "The dash_html_components package is deprecated. Please replace\n",
      "`import dash_html_components as html` with `from dash import html`\n",
      "  import dash_html_components as html\n"
     ]
    }
   ],
   "source": [
    "import subprocess\n",
    "import os\n",
    "import requests\n",
    "import pandas as pd\n",
    "import numpy as np\n",
    "import matplotlib.pyplot as plt\n",
    "import matplotlib.dates as mdates\n",
    "import matplotlib.pylab as plt\n",
    "import dash\n",
    "dash.__version__\n",
    "import dash_core_components as dcc\n",
    "import dash_html_components as html\n",
    "from dash.dependencies import Input, Output,State\n",
    "\n",
    "import plotly.graph_objects as go\n",
    "\n",
    "\n",
    "from datetime import datetime\n",
    "from bs4 import BeautifulSoup\n",
    "import json\n",
    "import seaborn as sns\n",
    "\n",
    "from scipy import optimize\n",
    "from scipy import integrate\n",
    "\n",
    "sns.set(style='whitegrid')\n",
    "# sns.axes_style(\"\")\n",
    "\n",
    "\n",
    "pd.set_option('display.max_rows', 500)"
   ]
  },
  {
   "cell_type": "markdown",
   "id": "397dca94",
   "metadata": {},
   "source": [
    "My personal github link is below\n",
    "\n",
    "https://github.com/abdlhersln/Enterprise-Data-Science-Folder.git"
   ]
  },
  {
   "cell_type": "raw",
   "id": "5e0a6e42",
   "metadata": {},
   "source": [
    "GITHUB csv data\n",
    "git clone/pull https://github.com/CSSEGISandData/COVID-19.git"
   ]
  },
  {
   "cell_type": "code",
   "execution_count": 2,
   "id": "d776069c",
   "metadata": {},
   "outputs": [],
   "source": [
    "country_list=['Germany','Turkey','US'] "
   ]
  },
  {
   "cell_type": "code",
   "execution_count": 3,
   "id": "4a7c8ea5",
   "metadata": {},
   "outputs": [],
   "source": [
    "pd_raw = pd.read_csv('https://raw.githubusercontent.com/CSSEGISandData/COVID-19/master/csse_covid_19_data/csse_covid_19_time_series/time_series_covid19_confirmed_global.csv')\n",
    "time_idx=pd_raw.columns[4:]\n",
    "time_idx = [datetime.strptime(each ,\"%m/%d/%y\") for each in time_idx]\n",
    "time_idx = [each.strftime('%Y-%m-%d') for each in time_idx]\n",
    "\n",
    "US = pd_raw[pd_raw['Country/Region']=='US'].iloc[:,4:].sum(axis=0)\n",
    "Turkey = pd_raw[pd_raw['Country/Region']=='Turkey'].iloc[:,4:].sum(axis=0)\n",
    "Germany = pd_raw[pd_raw['Country/Region']=='Germany'].iloc[:,4:].sum(axis=0)\n",
    "\n",
    "population_germany = 83240000\n",
    "population_turkey = 84340000\n",
    "population_us = 329500000\n",
    "\n",
    "population = [83240000,84340000,329500000]\n",
    "         \n",
    "\n",
    "df_plot = pd.DataFrame({'date':time_idx,'Germany':Germany,'Turkey':Turkey ,'US':US})"
   ]
  },
  {
   "cell_type": "code",
   "execution_count": 4,
   "id": "f00a5fe3",
   "metadata": {},
   "outputs": [],
   "source": [
    "def quick_plot(x_in, df_input,y_scale='log',slider=False):\n",
    "    \"\"\" Quick basic plot for quick static evaluation of a time series\n",
    "    \n",
    "        you can push selective columns of your data frame by .iloc[:,[0,6,7,8]]\n",
    "        \n",
    "        Parameters:\n",
    "        ----------\n",
    "        x_in : array \n",
    "            array of date time object, or array of numbers\n",
    "        df_input : pandas dataframe \n",
    "            the plotting matrix where each column is plotted\n",
    "            the name of the column will be used for the legend\n",
    "        scale: str\n",
    "            y-axis scale as 'log' or 'linear'\n",
    "        slider: bool\n",
    "            True or False for x-axis slider\n",
    "    \n",
    "        \n",
    "        Returns:\n",
    "        ----------\n",
    "        \n",
    "    \"\"\"\n",
    "    fig = go.Figure()\n",
    "\n",
    "    for each in df_input.columns:\n",
    "        fig.add_trace(go.Scatter(\n",
    "                        x=x_in,\n",
    "                        y=df_input[each],\n",
    "                        name=each,\n",
    "                        opacity=0.8))\n",
    "    \n",
    "    fig.update_layout(autosize=True,\n",
    "        width=800,\n",
    "        height=700,\n",
    "        font=dict(\n",
    "            family=\"PT Sans, monospace\",\n",
    "            size=18,\n",
    "            color=\"#7f7f7f\"\n",
    "            )\n",
    "        )\n",
    "    fig.update_yaxes(type=y_scale),\n",
    "    fig.update_xaxes(tickangle=-45,\n",
    "                 nticks=20,\n",
    "                 tickfont=dict(size=14,color=\"#7f7f7f\")\n",
    "                )\n",
    "    if slider==True:\n",
    "        fig.update_layout(xaxis_rangeslider_visible=True)\n",
    "    fig.show()\n",
    "      \n",
    "    "
   ]
  },
  {
   "cell_type": "code",
   "execution_count": 5,
   "id": "33239892",
   "metadata": {},
   "outputs": [],
   "source": [
    "def savgol_filter(df_input,column='confirmed',window=5):\n",
    "    ''' Savgol Filter which can be used in groupby apply function (data structure kept)\n",
    "\n",
    "        parameters:\n",
    "        ----------\n",
    "        df_input : pandas.series\n",
    "        column : str\n",
    "        window : int\n",
    "            used data points to calculate the filter result\n",
    "\n",
    "        Returns:\n",
    "        ----------\n",
    "        df_result: pd.DataFrame\n",
    "            the index of the df_input has to be preserved in result\n",
    "    '''\n",
    "\n",
    "    degree=1\n",
    "    df_result=df_input\n",
    "\n",
    "    filter_in=df_input[column].fillna(0) # attention with the neutral element here\n",
    "\n",
    "    result=signal.savgol_filter(np.array(filter_in),\n",
    "                           window, # window size used for filtering\n",
    "                           1)\n",
    "    df_result[str(column+'_filtered')]=result\n",
    "    return df_result\n",
    "\n",
    "def rolling_reg(df_input,col='confirmed'):\n",
    "    ''' Rolling Regression to approximate the doubling time'\n",
    "\n",
    "        Parameters:\n",
    "        ----------\n",
    "        df_input: pd.DataFrame\n",
    "        col: str\n",
    "            defines the used column\n",
    "        Returns:\n",
    "        ----------\n",
    "        result: pd.DataFrame\n",
    "    '''\n",
    "    days_back=3\n",
    "    result=df_input[col].rolling(\n",
    "                window=days_back,\n",
    "                min_periods=days_back).apply(get_doubling_time_via_regression,raw=False)\n",
    "\n",
    "\n",
    "\n",
    "    return result"
   ]
  },
  {
   "cell_type": "code",
   "execution_count": 6,
   "id": "777306ec",
   "metadata": {},
   "outputs": [],
   "source": [
    "# quick_plot(df_plot.date,\n",
    "#            df_plot.iloc[:,1:],\n",
    "#            y_scale='log',\n",
    "#            slider=True)"
   ]
  },
  {
   "cell_type": "markdown",
   "id": "a4df466e",
   "metadata": {},
   "source": [
    "Doubling Rate - Piecewise Linear Regression"
   ]
  },
  {
   "cell_type": "code",
   "execution_count": 7,
   "id": "c1e229cf",
   "metadata": {},
   "outputs": [],
   "source": [
    "from sklearn import linear_model\n",
    "reg = linear_model.LinearRegression(fit_intercept=True)\n",
    "from scipy import signal\n"
   ]
  },
  {
   "cell_type": "code",
   "execution_count": 8,
   "id": "55c60a3f",
   "metadata": {},
   "outputs": [],
   "source": [
    "start_pos=50\n",
    "df_plot = df_plot.iloc[start_pos:]"
   ]
  },
  {
   "cell_type": "code",
   "execution_count": 9,
   "id": "28024c34",
   "metadata": {},
   "outputs": [],
   "source": [
    "## filter data\n",
    "for each in country_list:\n",
    "    df_plot[each+'_filter']=signal.savgol_filter(df_plot[each],\n",
    "                           3, # window size used for filtering\n",
    "                           1) # order of fitted polynomial"
   ]
  },
  {
   "cell_type": "code",
   "execution_count": 10,
   "id": "bf96c867",
   "metadata": {},
   "outputs": [],
   "source": [
    "filter_cols=['Germany_filter','Turkey_filter','US_filter']"
   ]
  },
  {
   "cell_type": "code",
   "execution_count": 11,
   "id": "c483388b",
   "metadata": {},
   "outputs": [],
   "source": [
    "def get_doubling_time_via_regression(in_array):\n",
    "    ''' Use a linear regression to approximate the doubling rate'''\n",
    "    \n",
    "    y = np.array(in_array)\n",
    "    X = np.arange(-1,3).reshape(-1, 1)\n",
    "    \n",
    "    assert len(in_array)==4\n",
    "    reg.fit(X,y)\n",
    "    intercept=reg.intercept_\n",
    "    slope=reg.coef_\n",
    "    \n",
    "    return intercept/slope"
   ]
  },
  {
   "cell_type": "code",
   "execution_count": 12,
   "id": "dc78b789",
   "metadata": {},
   "outputs": [],
   "source": [
    "def doubling_time(in_array):\n",
    "    ''' Use a classical doubling time formular, \n",
    "     see https://en.wikipedia.org/wiki/Doubling_time '''\n",
    "    y = np.array(in_array)\n",
    "    return len(y)*np.log(2)/np.log(y[-1]/y[0])"
   ]
  },
  {
   "cell_type": "code",
   "execution_count": 13,
   "id": "4d80d8f0",
   "metadata": {},
   "outputs": [],
   "source": [
    "# calculate slope of regression of last x days\n",
    "# use always a limited number of days to approximate the triangle, attention exponential base assumption\n",
    "days_back = 4 # this gives a smoothing effect\n",
    "for pos,country in enumerate(country_list):\n",
    "    df_plot[country+'_DR']=df_plot[country].rolling(\n",
    "                                window=days_back,\n",
    "                                min_periods=days_back).apply(get_doubling_time_via_regression, raw=False)"
   ]
  },
  {
   "cell_type": "code",
   "execution_count": 14,
   "id": "8ab939a8",
   "metadata": {},
   "outputs": [],
   "source": [
    "# run on all filtered data\n",
    "days_back = 4 # this gives a smoothing effect\n",
    "for pos,country in enumerate(filter_cols):\n",
    "    df_plot[country+'_DR']=df_plot[country].rolling(\n",
    "                                window=days_back,\n",
    "                                min_periods=days_back).apply(get_doubling_time_via_regression, raw=False)"
   ]
  },
  {
   "cell_type": "code",
   "execution_count": 15,
   "id": "8548b9ef",
   "metadata": {},
   "outputs": [],
   "source": [
    "df_plot = df_plot.fillna(0)"
   ]
  },
  {
   "cell_type": "code",
   "execution_count": 16,
   "id": "547774e9",
   "metadata": {},
   "outputs": [
    {
     "name": "stderr",
     "output_type": "stream",
     "text": [
      "C:\\Users\\Abdullah Eraslan\\anaconda3\\lib\\site-packages\\pandas\\core\\frame.py:5039: SettingWithCopyWarning: \n",
      "A value is trying to be set on a copy of a slice from a DataFrame\n",
      "\n",
      "See the caveats in the documentation: https://pandas.pydata.org/pandas-docs/stable/user_guide/indexing.html#returning-a-view-versus-a-copy\n",
      "  return super().rename(\n"
     ]
    }
   ],
   "source": [
    "confirmed = df_plot[['Germany','Turkey','US']]\n",
    "confirmed_filtered = df_plot[['Germany_filter','Turkey_filter','US_filter']]\n",
    "confirmed_filtered.rename(columns = {'Germany_filter':'Germany', 'Turkey_filter':'Turkey','US_filter':'US'}, inplace = True)\n",
    "confirmed_DR = df_plot[['Germany_DR','Turkey_DR','US_DR']]\n",
    "confirmed_DR.rename(columns = {'Germany_DR':'Germany', 'Turkey_DR':'Turkey','US_DR':'US'}, inplace = True)\n",
    "confirmed_filtered_DR = df_plot[['Germany_filter_DR','Turkey_filter_DR','US_filter_DR']]\n",
    "confirmed_filtered_DR.rename(columns = {'Germany_filter_DR':'Germany', 'Turkey_filter_DR':'Turkey','US_filter_DR':'US'}, inplace = True)"
   ]
  },
  {
   "cell_type": "code",
   "execution_count": 17,
   "id": "5c011d05",
   "metadata": {},
   "outputs": [],
   "source": [
    "fig = go.Figure()\n",
    "\n",
    "app = dash.Dash()\n",
    "app.layout = html.Div([\n",
    "\n",
    "    dcc.Markdown('''\n",
    "     ## Enterprise Data Science Delivery 3\n",
    "    '''),\n",
    "\n",
    "    dcc.Markdown('''\n",
    "     Country Selection\n",
    "    '''),\n",
    "\n",
    "    dcc.Dropdown(\n",
    "        id='country_drop_down',\n",
    "        options=[\n",
    "        {'label': 'Germany', 'value': 'Germany'},\n",
    "        {'label': 'Turkey', 'value': 'Turkey'},\n",
    "        {'label': 'US', 'value': 'US'},\n",
    "    ],\n",
    "        value=['Germany','Turkey'], # which are pre-selected\n",
    "        multi=True\n",
    "    ),\n",
    "\n",
    "    dcc.Markdown('''\n",
    "         Select Timeline of confirmed COVID-19 cases or the approximated doubling time\n",
    "        '''),\n",
    "\n",
    "\n",
    "    dcc.Dropdown(\n",
    "    id='doubling_time',\n",
    "    options=[\n",
    "        {'label': 'Timeline Confirmed ', 'value':1},\n",
    "        {'label': 'Timeline Confirmed Filtered', 'value': 2},\n",
    "        {'label': 'Timeline Doubling Rate', 'value': 3},\n",
    "        {'label': 'Timeline Doubling Rate Filtered', 'value': 4},\n",
    "    ],\n",
    "    value=1,\n",
    "    multi=False\n",
    "    ),\n",
    "\n",
    "    dcc.Graph(figure=fig, id='main_window_slope')\n",
    "])\n",
    "\n",
    "\n",
    "@app.callback(\n",
    "    Output('main_window_slope', 'figure'),\n",
    "    [Input('country_drop_down', 'value'),\n",
    "    Input('doubling_time', 'value')])\n",
    "\n",
    "def update_figure(country_list,show_doubling):\n",
    "\n",
    "\n",
    "    if show_doubling >2: \n",
    "        my_yaxis={'type':\"log\",\n",
    "               'title':'Approximated doubling rate over 4 days'\n",
    "              }\n",
    "    else:\n",
    "        my_yaxis={'type':\"log\",\n",
    "                  'title':'Confirmed Cases'\n",
    "              }\n",
    "\n",
    "\n",
    "    traces = []\n",
    "    \n",
    "    for each in country_list:\n",
    "\n",
    "        if show_doubling ==2:\n",
    "            \n",
    "            df_plot_new=confirmed_filtered\n",
    "            \n",
    "        elif show_doubling ==3:\n",
    "            \n",
    "            df_plot_new=confirmed_DR\n",
    "            \n",
    "        elif show_doubling ==4:\n",
    "            \n",
    "            df_plot_new=confirmed_filtered_DR\n",
    "            \n",
    "        else:\n",
    "            \n",
    "            df_plot_new=confirmed\n",
    "\n",
    "            \n",
    "        traces.append(dict(x=df_plot.date,\n",
    "                           y=df_plot_new[each],\n",
    "                           mode='markers+lines',\n",
    "                           opacity=0.9,\n",
    "                           name=each\n",
    "                        )\n",
    "                )\n",
    "\n",
    "    return {\n",
    "            'data': traces,\n",
    "            'layout': dict (\n",
    "                width=1200,\n",
    "                height=700,\n",
    "\n",
    "                xaxis={'title':'Timeline',\n",
    "                        'tickangle':-45,\n",
    "                        'nticks':20,\n",
    "                        'tickfont':dict(size=14,color=\"#7f7f7f\"),\n",
    "                      },\n",
    "\n",
    "                yaxis=my_yaxis\n",
    "                             \n",
    "        )\n",
    "    }"
   ]
  },
  {
   "cell_type": "code",
   "execution_count": 18,
   "id": "500bfc5d",
   "metadata": {},
   "outputs": [
    {
     "name": "stdout",
     "output_type": "stream",
     "text": [
      "Dash is running on http://127.0.0.1:8050/\n",
      "\n",
      " * Serving Flask app \"__main__\" (lazy loading)\n",
      " * Environment: production\n",
      "\u001b[31m   WARNING: This is a development server. Do not use it in a production deployment.\u001b[0m\n",
      "\u001b[2m   Use a production WSGI server instead.\u001b[0m\n",
      " * Debug mode: on\n"
     ]
    }
   ],
   "source": [
    "if __name__ == '__main__':\n",
    "\n",
    "    app.run_server(debug=True, use_reloader=False)"
   ]
  }
 ],
 "metadata": {
  "kernelspec": {
   "display_name": "Python 3 (ipykernel)",
   "language": "python",
   "name": "python3"
  },
  "language_info": {
   "codemirror_mode": {
    "name": "ipython",
    "version": 3
   },
   "file_extension": ".py",
   "mimetype": "text/x-python",
   "name": "python",
   "nbconvert_exporter": "python",
   "pygments_lexer": "ipython3",
   "version": "3.9.7"
  }
 },
 "nbformat": 4,
 "nbformat_minor": 5
}
